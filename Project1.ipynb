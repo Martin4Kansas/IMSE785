{
 "cells": [
  {
   "cell_type": "markdown",
   "metadata": {},
   "source": [
    "# Import Statements"
   ]
  },
  {
   "cell_type": "code",
   "execution_count": 1,
   "metadata": {},
   "outputs": [],
   "source": [
    "import pandas as pd\n",
    "import string\n",
    "from nltk.tag import pos_tag\n",
    "from IPython.display import display \n",
    "import matplotlib.pyplot as plt\n",
    "%matplotlib inline"
   ]
  },
  {
   "cell_type": "markdown",
   "metadata": {},
   "source": [
    "# Build Dataframe"
   ]
  },
  {
   "cell_type": "code",
   "execution_count": 2,
   "metadata": {},
   "outputs": [
    {
     "data": {
      "text/html": [
       "<div>\n",
       "<style scoped>\n",
       "    .dataframe tbody tr th:only-of-type {\n",
       "        vertical-align: middle;\n",
       "    }\n",
       "\n",
       "    .dataframe tbody tr th {\n",
       "        vertical-align: top;\n",
       "    }\n",
       "\n",
       "    .dataframe thead th {\n",
       "        text-align: right;\n",
       "    }\n",
       "</style>\n",
       "<table border=\"1\" class=\"dataframe\">\n",
       "  <thead>\n",
       "    <tr style=\"text-align: right;\">\n",
       "      <th></th>\n",
       "      <th>word</th>\n",
       "      <th>count</th>\n",
       "    </tr>\n",
       "  </thead>\n",
       "  <tbody>\n",
       "    <tr>\n",
       "      <td>0</td>\n",
       "      <td>thou</td>\n",
       "      <td>4886</td>\n",
       "    </tr>\n",
       "    <tr>\n",
       "      <td>1</td>\n",
       "      <td>thy</td>\n",
       "      <td>3876</td>\n",
       "    </tr>\n",
       "    <tr>\n",
       "      <td>2</td>\n",
       "      <td>thee</td>\n",
       "      <td>3365</td>\n",
       "    </tr>\n",
       "    <tr>\n",
       "      <td>3</td>\n",
       "      <td>good</td>\n",
       "      <td>2389</td>\n",
       "    </tr>\n",
       "    <tr>\n",
       "      <td>4</td>\n",
       "      <td>lord</td>\n",
       "      <td>2183</td>\n",
       "    </tr>\n",
       "    <tr>\n",
       "      <td>5</td>\n",
       "      <td>man</td>\n",
       "      <td>1840</td>\n",
       "    </tr>\n",
       "    <tr>\n",
       "      <td>6</td>\n",
       "      <td>sir</td>\n",
       "      <td>1837</td>\n",
       "    </tr>\n",
       "    <tr>\n",
       "      <td>7</td>\n",
       "      <td>hath</td>\n",
       "      <td>1746</td>\n",
       "    </tr>\n",
       "    <tr>\n",
       "      <td>8</td>\n",
       "      <td>know</td>\n",
       "      <td>1645</td>\n",
       "    </tr>\n",
       "    <tr>\n",
       "      <td>9</td>\n",
       "      <td>let</td>\n",
       "      <td>1447</td>\n",
       "    </tr>\n",
       "  </tbody>\n",
       "</table>\n",
       "</div>"
      ],
      "text/plain": [
       "   word  count\n",
       "0  thou   4886\n",
       "1   thy   3876\n",
       "2  thee   3365\n",
       "3  good   2389\n",
       "4  lord   2183\n",
       "5   man   1840\n",
       "6   sir   1837\n",
       "7  hath   1746\n",
       "8  know   1645\n",
       "9   let   1447"
      ]
     },
     "metadata": {},
     "output_type": "display_data"
    }
   ],
   "source": [
    "df = pd.read_csv(\"part-r-00000\", delimiter=\"\\t\", header=None) # read in data\n",
    "df.columns = ['word','count'] # set column names\n",
    "df['word'] = df['word'].str.replace('[{}]'.format(string.punctuation), '') # remove extraneous punctuation\n",
    "df = df.groupby(df['word']).aggregate({'count': 'sum'}).reset_index() # merge same words\n",
    "df = df[df['word'] != \"\"] # remove blanks\n",
    "# get list of all nouns and adjectives in the dataframe using nltk\n",
    "nouns_and_adjectives = [word for word,pos in pos_tag(df['word'].tolist()) if pos == 'NN' or pos == 'JJ']\n",
    "# filter dataframe to just nouns and adjectives\n",
    "df = df[df['word'].isin(nouns_and_adjectives)].sort_values(by=['count'],ascending=False)\\\n",
    "    .reset_index(drop=True).head(10)\n",
    "display(df) # display the dataframe"
   ]
  },
  {
   "cell_type": "markdown",
   "metadata": {},
   "source": [
    "# Create Pareto Plot"
   ]
  },
  {
   "cell_type": "code",
   "execution_count": 3,
   "metadata": {},
   "outputs": [
    {
     "data": {
      "image/png": "[encoded data removed]",
      "text/plain": [
       "<Figure size 432x288 with 2 Axes>"
      ]
     },
     "metadata": {
      "needs_background": "light"
     },
     "output_type": "display_data"
    }
   ],
   "source": [
    "# for this, I used Tyler Marrs' Pareto plot example: https://tylermarrs.com/posts/pareto-plot-with-matplotlib/\n",
    "title = \"Shakespeare Word Count Pareto Plot\"\n",
    "xlabel = \"word\"\n",
    "ylabel = \"count\"\n",
    "x = df['word'].values\n",
    "y = df['count'].values\n",
    "weights = y / y.sum()\n",
    "cumsum = weights.cumsum()\n",
    "fig, ax1 = plt.subplots()\n",
    "ax1.bar(x, y)\n",
    "ax1.set_xlabel(xlabel)\n",
    "ax1.set_ylabel(ylabel)\n",
    "ax2 = ax1.twinx()\n",
    "ax2.plot(x, cumsum, '-ro', alpha=0.5)\n",
    "ax2.set_ylabel('', color='r')\n",
    "ax2.tick_params('y', colors='r')\n",
    "vals = ax2.get_yticks()\n",
    "ax2.set_yticklabels(['{:,.2%}'.format(x) for x in vals])\n",
    "ax2.set_yticks([])\n",
    "formatted_weights = ['{0:.0%}'.format(x) for x in cumsum]\n",
    "for i, txt in enumerate(formatted_weights):\n",
    "    ax2.annotate(txt, (x[i], cumsum[i]), fontweight='heavy')    \n",
    "plt.title(title)\n",
    "plt.tight_layout()\n",
    "plt.show()"
   ]
  }
 ],
 "metadata": {
  "kernelspec": {
   "display_name": "Python 3",
   "language": "python",
   "name": "python3"
  },
  "language_info": {
   "codemirror_mode": {
    "name": "ipython",
    "version": 3
   },
   "file_extension": ".py",
   "mimetype": "text/x-python",
   "name": "python",
   "nbconvert_exporter": "python",
   "pygments_lexer": "ipython3",
   "version": "3.7.4"
  }
 },
 "nbformat": 4,
 "nbformat_minor": 2
}
